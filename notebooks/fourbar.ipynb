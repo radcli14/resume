{
 "cells": [
  {
   "cell_type": "markdown",
   "metadata": {},
   "source": [
    "# Four-bar Linkage Simulation"
   ]
  },
  {
   "cell_type": "markdown",
   "metadata": {},
   "source": [
    "## Introduction"
   ]
  },
  {
   "cell_type": "code",
   "execution_count": null,
   "metadata": {},
   "outputs": [],
   "source": [
    "from sympy.physics.mechanics import dynamicsymbols, ReferenceFrame, Point, RigidBody, inertia, KanesMethod, mechanics_printing, mlatex\n",
    "from sympy import symbols, diff, simplify, lambdify, solve\n",
    "from numpy import array, linspace, rad2deg, deg2rad, append, interp\n",
    "from numpy.linalg import pinv, inv\n",
    "from scipy.integrate import odeint, solve_ivp\n",
    "from scipy.optimize import fmin\n",
    "import matplotlib.pyplot as plt\n",
    "from matplotlib.animation import FuncAnimation\n",
    "from IPython.display import display, Latex"
   ]
  },
  {
   "cell_type": "markdown",
   "metadata": {},
   "source": []
  },
  {
   "cell_type": "code",
   "execution_count": null,
   "metadata": {},
   "outputs": [],
   "source": [
    "mechanics_printing()"
   ]
  },
  {
   "cell_type": "markdown",
   "metadata": {},
   "source": []
  },
  {
   "cell_type": "code",
   "execution_count": null,
   "metadata": {},
   "outputs": [],
   "source": [
    "def dtex(*args):\n",
    "    tex = ''\n",
    "    for arg in args:\n",
    "        if isinstance(arg, str):\n",
    "            # Handle string arguments\n",
    "            tex += f'${arg}$ $\\, = \\,$ '\n",
    "        else:\n",
    "            # Handle SymPy arguments\n",
    "            tex += f'${mlatex(arg)}$ $\\, = \\,$ '\n",
    "    \n",
    "    # Trim off the last equals sign\n",
    "    tex = tex[:-10]  \n",
    "    display(Latex(tex))"
   ]
  },
  {
   "cell_type": "markdown",
   "metadata": {},
   "source": [
    "## Symbolic Variables\n",
    "\n",
    "Symbolic variables are defined using a subscript convention representing the number of the angular coordinate or speed, and corresponding bar length, mass, or inertia.\n",
    "Angles are represented as generalized coordinates $\\boldsymbol{q} = (\\theta_0, \\theta_1, \\theta_2)$, angular rates as generalized speeds $\\boldsymbol{s} = (\\omega_0, \\omega_1, \\omega_2)$, where the time rate of change of the $k^{th}$ coordinate, $\\dot{\\theta}_k = \\omega_k$. "
   ]
  },
  {
   "cell_type": "code",
   "execution_count": null,
   "metadata": {},
   "outputs": [],
   "source": [
    "\"\"\"\n",
    "Time-varying symbols are created using the dynamicsymbols function, where the \n",
    "argument is a string containing one or more output variables, comma separated.\n",
    "The kinematic equations are created as the variable named kd, in this case with \n",
    "each derivative of a generalized coordinate being subtracted by the \n",
    "corresponding generalized speed. Convention for the kinematic equations is that\n",
    "each item in the list is assumed to be equal to zero, thus the sk - diff(qk) can\n",
    "be assume to be analogous to sk == diff(qk) from the perspective of the equation \n",
    "of motion generation step to follow.\n",
    "\"\"\"\n",
    "q = θ0, θ1, θ2 = dynamicsymbols('θ_0, θ_1, θ_2')\n",
    "s = ω0, ω1, ω2 = dynamicsymbols('ω_0, ω_1, ω_2')\n",
    "kd = [sk - diff(qk) for qk, sk in zip(q, s)]"
   ]
  },
  {
   "cell_type": "markdown",
   "metadata": {},
   "source": [
    "Constants include the bar lengths, represented by the symbols $(l_0, l_1, l_2, l_3)$, bar masses with the symbols $(m_0, m_1, m_2)$, and bar inertias with the symbols $(I_0, I_1, I_2)$.\n",
    "Gravitational acceleration and time are represented by $g$ and $t$, respectively."
   ]
  },
  {
   "cell_type": "code",
   "execution_count": null,
   "metadata": {},
   "outputs": [],
   "source": [
    "\"\"\"\n",
    "Non-time-varying symbols are created using the symbols function, with the same\n",
    "argument and output formatting as dynamicsymbols. These, however, will be \n",
    "replaced with a constant, numeric value in the simulation step.\n",
    "\"\"\"\n",
    "lengths = l0, l1, l2, l3 = symbols('l_0, l_1, l_2, l_3')\n",
    "masses = m0, m1, m2 = symbols('m_0, m_1, m_2')\n",
    "inertias = I0, I1, I2 = symbols('I_0, I_1, I_2')\n",
    "g = symbols('g')\n",
    "t = symbols('t')"
   ]
  },
  {
   "cell_type": "markdown",
   "metadata": {},
   "source": [
    "## Kinematics\n",
    "\n",
    "The relative positioning of the links is defined first using frames to define orientation, then points for each of the link intersections, and the link centers of gravity (CG's)."
   ]
  },
  {
   "cell_type": "markdown",
   "metadata": {},
   "source": [
    "### Frames\n",
    "\n",
    "The inertial frame is considered to be stationary and non-rotating, and is denoted $R$. Notably, the unit vector $\\hat{\\boldsymbol{r}}_x$ is aligned horizontally (tangent to the Earth's surface), the unit vector $\\hat{\\boldsymbol{r}}_y$ is aligned upward (opposite of gravitational acceleration), and the unit vector $\\hat{\\boldsymbol{r}}_z$ is orthogonal to $\\hat{\\boldsymbol{r}}_x$ and $\\hat{\\boldsymbol{r}}_y$. "
   ]
  },
  {
   "cell_type": "code",
   "execution_count": null,
   "metadata": {},
   "outputs": [],
   "source": [
    "\"\"\"\n",
    "Frames are represented by the ReferenceFrame object, which takes a string\n",
    "formatted name as its first argument. If no additional arguments are provided, \n",
    "then it can be assumed to be stationary.\n",
    "\"\"\"\n",
    "inertial = ReferenceFrame('R')"
   ]
  },
  {
   "cell_type": "markdown",
   "metadata": {},
   "source": [
    "Three additional frames are defined relative to the inertial frame, with the aforementioned angles previously defined with the generalized coordinate vector $\\boldsymbol{q}$. In each case, the orientation is defined with a rotation about the $\\hat{\\boldsymbol{r}}_z$ axis. Angular velocity vectors for the $k^{th}$ frame are defined with the $k^{th}$ generalized speed, or $\\omega_k \\hat{\\boldsymbol{r}}_z$. The set of orthogonal unit vectors attached to the $k^{th}$ rotating frame is denoted $(\\hat{\\boldsymbol{e}}_{kx}, \\hat{\\boldsymbol{e}}_{ky}, \\hat{\\boldsymbol{e}}_{kz})$."
   ]
  },
  {
   "cell_type": "code",
   "execution_count": null,
   "metadata": {},
   "outputs": [],
   "source": [
    "\"\"\"\n",
    "With the inertial frame defined, additional non-stationary frames can be\n",
    "created using the .orientnew method, which takes a string formatted name as its \n",
    "first argument, followed by arguments defining its orientation. The second\n",
    "argument is the orientation method, where 'Axis' specifies a rotation about a\n",
    "single axis in a specified frame. The next argument is the amounts of rotation, \n",
    "which for an 'Axis' definition, is a tuple containing the symbol representating \n",
    "the rotation angle, and the axis that the rotation is defined about.\n",
    "\"\"\"\n",
    "frames = [inertial.orientnew(f'E_{k}', 'Axis', (q[k], inertial.z)) for k in range(3)]\n",
    "for k in range(3):\n",
    "  frames[k].set_ang_vel(inertial, s[k]*inertial.z)\n",
    "\n",
    "  print(f'Rotation matrix for the {k}th frame')\n",
    "  dtex('\\mathbf{R}_' + str(k), frames[k].dcm(inertial))\n",
    "\n",
    "  print(f'Angular rate for the {k}th frame')\n",
    "  dtex('\\mathbf{\\omega}_' + str(k), frames[k].ang_vel_in(inertial))"
   ]
  },
  {
   "cell_type": "markdown",
   "metadata": {},
   "source": [
    "### Points\n",
    "\n",
    "The position of each point is defined relative to the origin, which is stationary and denoted $O$. For indexing purposes, we will consider $O$ as the $0^{th}$ point. Supposing we denote the $k^{th}$ point as $p_k$, and its position vector as $\\boldsymbol{r}_k$, then for each $k=0, 1 ,2$, the subsequent position vector \n",
    "\n",
    "$\\boldsymbol{r}_{k+1} = \\boldsymbol{r}_k + l_k \\boldsymbol{e}_{kx}$.\n",
    "\n",
    "Points representing the CG of each link are denoted $g_k$, where for each $k=0, 1, 2$, the CG position is \n",
    "\n",
    "$r_{gk} = r_{k} + \\frac{1}{2} l_k \\boldsymbol{e}_{kx}$. \n",
    "\n",
    "Velocity vectors for the $0^{th}$ and $3^{rd}$ point are set to zero, while velocity of the $1^{st}$ point is \n",
    "\n",
    "$\\boldsymbol{v}_1 = l_0 \\omega_0 \\hat{\\boldsymbol{e}}_{0y}$, \n",
    "\n",
    "and of the $2^{nd}$ point is \n",
    "\n",
    "$\\boldsymbol{v}_2 = \\boldsymbol{v}_1 +  l_1 \\omega_1 \\hat{\\boldsymbol{e}}_{1y}$. \n",
    "\n",
    "Velocity vectors for the CG's of each link are \n",
    "\n",
    "$\\boldsymbol{v}_{gk} = \\boldsymbol{v}_{k}+\\frac{1}{2}l_k \\omega_k \\hat{\\boldsymbol{e}}_{ky}$"
   ]
  },
  {
   "cell_type": "code",
   "execution_count": null,
   "metadata": {},
   "outputs": [],
   "source": [
    "\"\"\"\n",
    "The variables points, and cms are both created as Python lists of Point objects.\n",
    "The origin (0th point), and end of the third link (3rd) point, are each \n",
    "specified to have zero velocity, using the .set_vel() method. The locations of \n",
    "each link intersection is specified using the .locatenew() method from the \n",
    "point that precedes it in the list, by indexing the lengths list and the frames.\n",
    "Velocity for the moving points is specified using the .v2pt_theory() method, \n",
    "which calculates velocity using the transport equation.\n",
    "\"\"\"\n",
    "# Create the origin, and specify that it is stationary\n",
    "points = [Point('O')]\n",
    "points[0].set_vel(inertial, 0)\n",
    "\n",
    "# Create the points corresponding to the intersection of links\n",
    "for k in range(3):\n",
    "  points += [points[k].locatenew(f'p_{k}', lengths[k] * frames[k].x)]\n",
    "for k in (1, 2):\n",
    "  points[k].v2pt_theory(points[k-1], inertial, frames[k-1])\n",
    "points[3].set_vel(inertial, 0)\n",
    "\n",
    "# Create the points corresponding to centers of mass\n",
    "cms = []\n",
    "cms = [points[k].locatenew(f'g_{k}', 0.5 * lengths[k] * frames[k].x) for k in range(3)]\n",
    "for k in range(3):\n",
    "  cms[k].v2pt_theory(points[k if k < 2 else k+1], inertial, frames[k])\n",
    "\n",
    "for k in range(3):\n",
    "  print(f'Position for the {k+1}th point')\n",
    "  dtex('\\mathbf{r}_' + str(k+1), points[k+1].pos_from(points[0]))\n",
    "  print(f'Velocity for the {k+1}th point')\n",
    "  dtex('\\mathbf{v}_' + str(k+1), points[k+1].vel(inertial))\n",
    "  print(f'Position for the CG of the {k}th link')\n",
    "  dtex('\\mathbf{r}_{g' + str(k) + '}', cms[k].pos_from(points[0]))\n",
    "  print(f'Velocity for the CG of the {k}th link')\n",
    "  dtex('\\mathbf{v}_{g' + str(k) + '}', cms[k].vel(inertial))"
   ]
  },
  {
   "cell_type": "markdown",
   "metadata": {},
   "source": [
    "### Constraints\n",
    "\n",
    "A constraint is enforced such that the location of the $2^{nd}$ point is fixed to a constant location $\\boldsymbol{r}_2 = l_3 \\hat{\\boldsymbol{r}}_x$. Using the position defined above, this gives the constraint equation \n",
    "\n",
    "$f_c(\\boldsymbol{q}) = l_2 \\hat{\\boldsymbol{e}}_{2x} + l_1 \\hat{\\boldsymbol{e}}_{1x} + l_0 \\hat{\\boldsymbol{e}}_{0x} - l_3 \\hat{\\boldsymbol{r}}_x = 0$. \n",
    "\n",
    "Similarly, a velocity constraint can exists, which is the derivative of $f_c(\\boldsymbol{q})$ with respect to time, or \n",
    "\n",
    "$f_v(\\boldsymbol{q}, \\boldsymbol{s}) = \\frac{\\partial f_c(\\boldsymbol{q})}{\\partial t} = \\sum_{k=0}^2 l_k \\omega_k \\hat{\\boldsymbol{e}}_{kx}$.\n",
    "\n",
    "Implementation of these constraints involves transforming the vector form of the constraint equations into a vector form, evaluated in the inertial frame. Upon this transformation, the positional constraint equation in the $\\hat{\\boldsymbol{r}}_x$ direction is \n",
    "\n",
    "$-l_3 + \\sum_{k=0}^2 l_k \\cos \\theta_k = 0$, \n",
    "\n",
    "and the positional constraint equation in the $\\hat{\\boldsymbol{r}}_y$ direction is \n",
    "\n",
    "$\\sum_{k=0}^2 l_k \\sin \\theta_k = 0$.\n",
    "\n",
    "The corresponding velocity constraint equation in the $\\hat{\\boldsymbol{r}}_x$ direction is \n",
    "\n",
    "$\\sum_{k=0}^2 -l_k \\omega_k \\sin \\theta_0 = 0$,\n",
    "\n",
    "and the velocity constraint equation in the $\\hat{\\boldsymbol{r}}_y$ direction is \n",
    "\n",
    "$\\sum_{k=0}^2 l_k \\omega_k \\cos \\theta_0 = 0$."
   ]
  },
  {
   "cell_type": "code",
   "execution_count": null,
   "metadata": {},
   "outputs": [],
   "source": [
    "\"\"\"\n",
    "Positional constraints are determined by obtaining the position of the 3rd point\n",
    "relative to the origin (0th point), using the .pos_from() method included in the\n",
    "Point class, and subtracting the specified location of the constraint. The\n",
    "velocity constraint equation is determined through calling the .dt() method to\n",
    "calculate the time derivative of the position equation. Lastly, the to_matrix() \n",
    "method converts the vector form of the equations to a sympy Matrix object, with \n",
    "the first two elements of the matrix corresponding to the equations evaluated in\n",
    "the rx and ry directions of the inertial frame, the third element is zero\n",
    "because the motion is planar.\n",
    "\"\"\"\n",
    "# Constraint equations\n",
    "fc = points[3].pos_from(points[0]) - lengths[3] * inertial.x\n",
    "fv = fc.dt(inertial)\n",
    "\n",
    "# Constraint matrix equations in inertial frame\n",
    "position_constraint = fc.to_matrix(inertial)\n",
    "velocity_constraint = fv.to_matrix(inertial)\n",
    "\n",
    "print('Position constraint equation')\n",
    "display(fc, '0')\n",
    "\n",
    "print('Position contraint equations in inertial frame')\n",
    "display(position_constraint)\n",
    "\n",
    "print('Velocity constraint equation')\n",
    "display(fv, '0')\n",
    "\n",
    "print('Velocity constraint equations in inertial frame')\n",
    "display(velocity_constraint)\n",
    "\n",
    "# Define a function that will be used to solve for initial conditions\n",
    "def solve_ics(theta_0, subs_dict):\n",
    "  err = position_constraint.subs(q[0], theta_0).subs(subs_dict)\n",
    "  err2 = lambdify(q[1:], err[0]**2 + err[1]**2)\n",
    "  def loss(y):\n",
    "    return err2(y[0], y[1])\n",
    "  min_x = fmin(func=loss, x0=[0.0, 0.0]);\n",
    "  return [theta_0, min_x[0], min_x[1], 0.0, 0.0, 0.0]"
   ]
  },
  {
   "cell_type": "markdown",
   "metadata": {},
   "source": [
    "## Dynamics\n",
    "\n",
    "### Rigid Bodies\n",
    "\n",
    "Each of the three links are defined with a mass at its CG in the center of the link, and a moment of inertia $I_k$ relative to the CG and about the $\\hat{\\boldsymbol{e}}_{kz} = \\hat{\\boldsymbol{r}}_z$ axis. Linear momentum for each body in the inertial frame is \n",
    "\n",
    "$\\mathbf{P}_k = m_k \\mathbf{v}_{gk}$\n",
    "\n",
    "and angular momentum for each body, relative to the origin and in the inertial frame, is\n",
    "\n",
    "$\\mathbf{H}_k = I_k \\omega_k \\hat{\\boldsymbol{e}}_{kz} + \\mathbf{r}_{gk} \\times m_k \\mathbf{v}_{gk}$"
   ]
  },
  {
   "cell_type": "code",
   "execution_count": null,
   "metadata": {},
   "outputs": [],
   "source": [
    "\"\"\"\n",
    "Bodies are instantiated using the RigidBody class, which takes as arguments a \n",
    "string-formatted name, vector corresponding to the CG position, frame in which\n",
    "its inertia tensor components are defined, mass of the body, and an inertia\n",
    "tuple. The inertia tuple includes an inertia dyadic, and a CG position. For \n",
    "convenience, the inertia dyadic is created using the inertia function, which\n",
    "takes as arguments the frame in which the inertia tensor components are defined,\n",
    "three required inertia terms (ixx, iyy, izz), and optional product of inertia\n",
    "terms (ixy, izx, iyz) as keyword arguments.\n",
    "\"\"\"\n",
    "bodies = [RigidBody(f'Bar {k}', cms[k], frames[k], masses[k], \n",
    "                    (inertia(frames[k], 0, 0, inertias[k]), cms[k])) \n",
    "          for k in range(3)]\n",
    "\n",
    "for k in range(3):\n",
    "  print(f'Linear momentum for the {k}th link in the inertial frame')\n",
    "  dtex('\\mathbf{P}_' + str(k), bodies[k].linear_momentum(inertial))\n",
    "  print(f'Angular momentum for the {k}th link relative to the origin, in the inertial frame')\n",
    "  dtex('\\mathbf{H}_' + str(k), bodies[k].angular_momentum(points[0], inertial))"
   ]
  },
  {
   "cell_type": "markdown",
   "metadata": {},
   "source": [
    "### Loads\n",
    "\n",
    "The external forces on the three links are from gravitational acceleration, which is assumed to act in the $-\\hat{\\boldsymbol{r}}_z$ direction, such that the force at the $k^{th}$ link CG is\n",
    "\n",
    "$\\mathbf{F}_k = -g m_k \\hat{\\boldsymbol{r}}_z$"
   ]
  },
  {
   "cell_type": "code",
   "execution_count": null,
   "metadata": {},
   "outputs": [],
   "source": [
    "\"\"\"\n",
    "Loads are created as a list of tuples, where the first element of the tuple is \n",
    "the point at which the force is applied, and the second element is the force \n",
    "vector.\n",
    "\"\"\"\n",
    "loads = [(cms[k], -masses[k] * g * inertial.y) for k in range(3)]\n",
    "for load in loads:\n",
    "  print(f'Force applied at the point {load[0]}')\n",
    "  dtex('\\mathbf{F}_' + str(k), load[1])"
   ]
  },
  {
   "cell_type": "markdown",
   "metadata": {},
   "source": [
    "### Equations of motion\n",
    "\n",
    "Kane's method is used to derive equations of motion given an inertial reference frame, the set of independent and dependent generalized coordinates and speeds, the set of configuration and velocity constraints, and the kinematic differential equations defining the relationship between generalized coordinates and speeds. The form of the equations is \n",
    "\n",
    "$\\mathbf{F}_r + \\mathbf{F}_r^* = \\mathbf{0}$\n",
    "\n",
    "where if we assume the only independent generalized speed is $\\omega_0$, the applied, or active force terms\n",
    "\n",
    "$\n",
    "\\mathbf{F}_r = \\sum_{k=0}^2 \n",
    "\\frac{\\partial \\mathbf{v}_{gk}}{\\partial \\omega_0} \n",
    "\\cdot \\mathbf{F}_k\n",
    "$\n",
    "\n",
    "and the body, or inertial force terms\n",
    "\n",
    "$\n",
    "\\mathbf{F}_r^* = \\sum_{k=0}^2\n",
    "\\left(\n",
    "\\frac{\\partial \\mathbf{v}_{gk}}{\\partial \\omega_0} \n",
    "\\cdot \\dot{\\mathbf{P}}_k\n",
    "+\n",
    "\\frac{\\partial \\mathbf{\\omega}_{k}}{\\partial \\omega_0} \n",
    "\\cdot \\dot{\\mathbf{H}}_k\n",
    "\\right)\n",
    "$\n",
    "\n",
    "These equations are expanded to a mass matrix and forcing vector form, where\n",
    "\n",
    "$\\mathbf{M}(\\boldsymbol{q}) \\dot{\\mathbf{x}} = \\boldsymbol{F}\\,(\\boldsymbol{q}, \\boldsymbol{s})$\n",
    "\n",
    "where $\\boldsymbol{x}=\\left(\\boldsymbol{q}, \\boldsymbol{s}\\right)$ is the combined state vector containing generalized coordinates and speeds."
   ]
  },
  {
   "cell_type": "code",
   "execution_count": null,
   "metadata": {},
   "outputs": [],
   "source": [
    "\"\"\"\n",
    "The KanesMethod object takes the inertial frame as its sole required argument. \n",
    "Additionally, the keyword arguments q_ind, and u_ind define the independent\n",
    "generalized coordinates and speeds, in this case the first entry in the q and s\n",
    "lists, which are surrounded by brackets so that the argument is in the required\n",
    "list form. the q_dependent and u_dependent keyword arguments are the remaining \n",
    "entries in q and s. The configuration_constraints and velocity_constraints \n",
    "keyword arguments are taken from the matrix form of the contraint equations, in\n",
    "the first two, non-zero directions. The kd_eqs keyword argument are kinematic \n",
    "equations defining the relation between generalized coordinates and speeds. The\n",
    ".kanes_equations() method is called with the lists of bodies and loads as\n",
    "arguments. After this is called, the equations can be accessed in various forms,\n",
    "Notably in the mass matrix and forcing vector form that will be integrated here.\n",
    "\"\"\"\n",
    "kane = KanesMethod(inertial, q_ind=[q[0]], u_ind=[s[0]], \n",
    "                   q_dependent=q[1:], u_dependent=s[1:], \n",
    "                   configuration_constraints=position_constraint[:2], \n",
    "                   velocity_constraints=velocity_constraint[:2], \n",
    "                   kd_eqs=kd)\n",
    "fr, frstar = kane.kanes_equations(bodies, loads)\n",
    "print('Applied Forces')\n",
    "dtex('\\mathbf{F}_r', simplify(fr))\n",
    "display('Internal Forces')\n",
    "dtex('\\mathbf{F}_r^*', simplify(frstar))\n",
    "display('Mass Matrix')\n",
    "M = simplify(kane.mass_matrix_full)\n",
    "dtex('\\mathbf{M}', M)\n",
    "display('Forcing')\n",
    "F = simplify(kane.forcing_full).subs(kane.kindiffdict())\n",
    "dtex('\\mathbf{F}', F)"
   ]
  },
  {
   "cell_type": "markdown",
   "metadata": {},
   "source": [
    "## Analysis\n",
    "\n",
    "### Simulation\n",
    "\n",
    "To obtain a callable ordinary differential equation (ODE) function, first we create a dictionary containing numeric values for the previously defined symbolic quantities. Assuming units of kilograms ($kg$), meters ($m$), Newtons ($N$), and seconds ($s$), the gravitational acceleration is specified to be 9.81 $m/s^2$. For this model, we will assume links of length 1, 2, 3, and 4 $m$, respectively, and with mass value of 1, 2, and 3 $kg$ for the first 3 links (the fourth link is fixed to the ground, it is not assigned mass). Moment of inertia values are assumed for a thin rod, where\n",
    "\n",
    "$I_k = \\frac{1}{12} m_k l_k^2$\n",
    "\n",
    "These values are substituted into the equations for mass matrix and forcing prior to creation of the ODE function. The `scipy.integrate.solve_ivp` function is used to integrate the initial value problem, and requires and ode function of the form $\\dot{\\boldsymbol{x}} = f(t, \\boldsymbol{x})$. In this case, $f(t, \\boldsymbol{x}) = \\mathbf{M}^{-1} \\boldsymbol{F}$. Since $\\mathbf{M}$ and $\\boldsymbol{F}$ are state-dependent, these are calculated (and the mass matrix inverted) at each time step in the simulation. Initial states are estimated using an optimization function to minimize the positional constraint equations given a specified $\\theta_0(0) = 85^\\circ$. "
   ]
  },
  {
   "cell_type": "code",
   "execution_count": null,
   "metadata": {},
   "outputs": [],
   "source": [
    "# Create a dictionary of constants to be substituted into the symbolic equations\n",
    "subs_dict = {g: 9.81, \n",
    "             m0: 1.0, m1: 2.0, m2: 3.0, \n",
    "             l0: 1.0, l1: 2.0, l2: 3.0, l3: 4.0}\n",
    "for I, m, l in zip(inertias, masses, lengths[:3]):\n",
    "  subs_dict[I] = 1.0 / 12.0 * subs_dict[m] * subs_dict[l]**2\n",
    "\n",
    "# Use lambdify function to create anonymous functions for the mass matrix and \n",
    "# forcing, which will yield speed-optimized function given the state arguments,\n",
    "# and will output a numpy array object   \n",
    "mass_fcn = lambdify([t]+q+s, M.subs(subs_dict))\n",
    "forcing_fcn = lambdify([t]+q+s, F.subs(subs_dict))\n",
    "\n",
    "# Create a callable ordinary differential equation of time and state\n",
    "def ode(t, x):\n",
    "  args = append([t], x)\n",
    "  dx = inv(mass_fcn(*args)) @ forcing_fcn(*args)\n",
    "  return dx[:, 0]\n",
    "\n",
    "# Determine initial conditions, and simulate\n",
    "x0 = solve_ics(deg2rad(85), subs_dict)\n",
    "sol = solve_ivp(ode, [0, 20], x0, rtol=1e-6)\n",
    "for k in range(3):\n",
    "  dtex(f'\\\\theta_{k}(0)', str(rad2deg(x0[k])))"
   ]
  },
  {
   "cell_type": "markdown",
   "metadata": {},
   "source": [
    "### Plotting\n",
    "\n",
    "Generalized coordinates derived from simulating the equations of motion giving the specified constants and initial values are shown. Notable features include the periodicity of the $\\theta_0$ coordinate, which oscillates between its initial $85^\\circ$, and $405^\\circ$. Since the only force acting on the system is gravity, there are no initial rates, and the constraint forces are conservative it does not complete one full rotation. Also, at instants where $\\theta_0(t)=180^\\circ$, $\\theta_1(t) = \\theta_2(t) = 0$ because $l_0 + l_3 = l_1 + l_2$, meaning at these times all four links will be in alignment. "
   ]
  },
  {
   "cell_type": "code",
   "execution_count": null,
   "metadata": {},
   "outputs": [],
   "source": [
    "\"\"\"\n",
    "The sol structure contains the time variable t, and integrated states y. The\n",
    "first three indices in y are the generalized coordinates, which are converted\n",
    "from radians to degrees for plotting. Plotting functions are taken from the \n",
    "matplotlib.pyplot which was imported as plt.\n",
    "\"\"\"\n",
    "for k in range(3):\n",
    "  plt.plot(sol.t, rad2deg(sol.y[k, :]))\n",
    "plt.xlabel('Time (sec)')\n",
    "plt.ylabel('Angle (deg)')\n",
    "plt.legend(q);"
   ]
  },
  {
   "cell_type": "markdown",
   "metadata": {},
   "source": [
    "Generalized speeds are similarly plotted. These are distinctly \"spiky,\" with positive and negative peaks corresponding to the times at which $\\theta_0(t) = 180^\\circ$."
   ]
  },
  {
   "cell_type": "code",
   "execution_count": null,
   "metadata": {},
   "outputs": [],
   "source": [
    "\"\"\"\n",
    "The remaining indices in the sol structure are the generalized speeds, which are\n",
    "plotting in a similar manner to the coordinates, including conversion to \n",
    "degrees.\n",
    "\"\"\"\n",
    "for k in range(3):\n",
    "  plt.plot(sol.t, rad2deg(sol.y[k+3, :]))\n",
    "plt.xlabel('Time (sec)')\n",
    "plt.ylabel('Angular Rate (deg)')\n",
    "plt.legend(s);"
   ]
  },
  {
   "cell_type": "markdown",
   "metadata": {},
   "source": [
    "An animation of the positions of each of the link interface is generated to visualize the spatial relations between points as a function of time. Interestingly, we can see the time at which $\\theta_0=180^\\circ$ corresponds to an apparrent \"bounce\" of the third link. This occurs because it is kinematically impossible given the link geometries for this link to travel past the horizontal, and abruptly reverses direction at this point."
   ]
  },
  {
   "cell_type": "code",
   "execution_count": null,
   "metadata": {},
   "outputs": [],
   "source": [
    "\"\"\"\n",
    "The matplotlib rc function is used to modify the runtime configuration, here \n",
    "specifying the jshtml argument for compatibility with showing animations in a \n",
    "Google Colaboratory notebook. The matplotlib FuncAnimation function takes a\n",
    "figure, and commands to initialize and update the figure over a specified set of\n",
    "frames. Here, a set of equations are created to solve for the position of each\n",
    "of the intersection points as a function of the generalized coordinates. The \n",
    "update function takes these equation, and interpolates the states from the sol\n",
    "structure as a function of time, then updates the lines in the plot for each\n",
    "of the times specified in the frames argument of FuncAnimation.\n",
    "\"\"\"\n",
    "from matplotlib import rc\n",
    "rc('animation', html='jshtml')\n",
    "\n",
    "fig, ax = plt.subplots();\n",
    "# x = [interp(0.5, sol.t, sol.y[k]) for k in range(6)]\n",
    "pos_eqn = [lambdify(q, point.pos_from(points[0]).subs(subs_dict).to_matrix(inertial)) for point in points]\n",
    "pos = array([eqn(*x0[:3]) for eqn in pos_eqn])\n",
    "xdata, ydata = pos[:, 0], pos[:, 1]\n",
    "ln, = plt.plot(xdata, ydata, '-o');\n",
    "\n",
    "def init():\n",
    "    ax.set_xlim(-1.5, 5)\n",
    "    ax.set_ylim(-1.5, 3)\n",
    "    return ln,\n",
    "\n",
    "def update(time):\n",
    "    x = [interp(time, sol.t, sol.y[k]) for k in range(3)]\n",
    "    pos = array([eqn(*x) for eqn in pos_eqn])\n",
    "    xdata = pos[:, 0]\n",
    "    ydata = pos[:, 1]\n",
    "    ln.set_data(xdata, ydata)\n",
    "    return ln,\n",
    "\n",
    "ani = FuncAnimation(fig, update, frames=linspace(0, 3.14, 93), init_func=init, \n",
    "                    blit=True, interval=1000.0 * 3.14 / 93.0);\n",
    "ani"
   ]
  },
  {
   "cell_type": "markdown",
   "metadata": {},
   "source": [
    "## Conclusion\n",
    "\n",
    "Python and the `sympy`, `numpy`, and `scipy` modules are used to derive equations of motion and simulate the motion of a four bar linkage mechanism. The derivation includes the definition of symbolic variables, frames to define angular orientation, points to define position, and positional constraints. Rigid bodies are defined with mass and inertia defined at the center of each link, and gravitational force is applied at the mass centers. Kane's method is used to derive equations of motion, which are subsequently simulated, and the results plotted for generalized coordinates, speeds, and link positions as a function of time."
   ]
  }
 ],
 "metadata": {
  "kernelspec": {
   "display_name": "Python 3",
   "language": "python",
   "name": "python3"
  },
  "language_info": {
   "codemirror_mode": {
    "name": "ipython",
    "version": 3
   },
   "file_extension": ".py",
   "mimetype": "text/x-python",
   "name": "python",
   "nbconvert_exporter": "python",
   "pygments_lexer": "ipython3",
   "version": "3.7.3"
  }
 },
 "nbformat": 4,
 "nbformat_minor": 4
}
